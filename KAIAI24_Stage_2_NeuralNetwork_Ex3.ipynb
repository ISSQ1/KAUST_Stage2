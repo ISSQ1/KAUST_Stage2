{
  "nbformat": 4,
  "nbformat_minor": 0,
  "metadata": {
    "colab": {
      "provenance": [],
      "include_colab_link": true
    },
    "kernelspec": {
      "name": "python3",
      "display_name": "Python 3"
    },
    "language_info": {
      "name": "python"
    }
  },
  "cells": [
    {
      "cell_type": "markdown",
      "metadata": {
        "id": "view-in-github",
        "colab_type": "text"
      },
      "source": [
        "<a href=\"https://colab.research.google.com/github/ISSQ1/KAUST_Stage2/blob/main/KAIAI24_Stage_2_NeuralNetwork_Ex3.ipynb\" target=\"_parent\"><img src=\"https://colab.research.google.com/assets/colab-badge.svg\" alt=\"Open In Colab\"/></a>"
      ]
    },
    {
      "cell_type": "code",
      "execution_count": 1,
      "metadata": {
        "id": "zcWdmzFF6Wy3"
      },
      "outputs": [],
      "source": [
        "from torchvision import datasets, transforms\n",
        "import numpy as np\n",
        "import torch\n",
        "from tqdm import tqdm\n",
        "import torch.nn as nn\n",
        "from torchvision.datasets import MNIST\n",
        "from torch.utils.data import DataLoader\n",
        "from torch.optim import Adam\n",
        "from torchvision.transforms.functional import to_tensor\n",
        "import matplotlib.pyplot as plt\n",
        "#not in scope of this course\n",
        "from torchvision.datasets import CIFAR10\n",
        "import torchvision.transforms as T\n",
        "from torch.utils.data import DataLoader"
      ]
    },
    {
      "cell_type": "code",
      "source": [
        "train_dataset = CIFAR10(\"/\", download = True, train = True, transform = T.ToTensor())\n",
        "test_dataset = CIFAR10(\"/\", download = True, train = False, transform = T.ToTensor())"
      ],
      "metadata": {
        "colab": {
          "base_uri": "https://localhost:8080/"
        },
        "id": "g9ypghZR7E1p",
        "outputId": "b0c67571-ffd4-46f2-e130-22ed6b5b3e3c"
      },
      "execution_count": 11,
      "outputs": [
        {
          "output_type": "stream",
          "name": "stdout",
          "text": [
            "Files already downloaded and verified\n",
            "Files already downloaded and verified\n"
          ]
        }
      ]
    },
    {
      "cell_type": "code",
      "source": [
        "bs = 32\n",
        "\n",
        "train_loader = DataLoader(train_dataset, batch_size = bs)\n",
        "test_loader = DataLoader(test_dataset, batch_size = bs)"
      ],
      "metadata": {
        "id": "vPZq_vzw7RNz"
      },
      "execution_count": 3,
      "outputs": []
    },
    {
      "cell_type": "markdown",
      "source": [
        "#Tasks\n",
        "#1) Create at least 4 layers NN to classify the dataset\n",
        "#2) Train the neural network on train dataset\n",
        "#3) Show the training loss\n",
        "#4) Calculate the accuracy on test set\n",
        "#5) Show a few incorrectly classified samples\n",
        "#6) Calculate class-wise accuracy (implement the function yourself)"
      ],
      "metadata": {
        "id": "NBETITp396AM"
      }
    },
    {
      "cell_type": "markdown",
      "source": [
        "##Task 1: Create at least 4 layers NN to classify the dataset"
      ],
      "metadata": {
        "id": "0hMXjKcrJQ-_"
      }
    },
    {
      "cell_type": "code",
      "source": [
        "#Create at least 4 layers NN to classify the dataset\n",
        "class NN4Layer(nn.Module):\n",
        "\n",
        "  def __init__(self, num_inp, num_hidden, num_out):\n",
        "\n",
        "    super(NN4Layer, self).__init__()\n",
        "\n",
        "    self.linear1 = nn.Linear(in_features=num_inp, out_features=num_hidden)\n",
        "    self.linear2 = nn.Linear(in_features=num_hidden, out_features=num_hidden)\n",
        "    self.linear3 = nn.Linear(in_features=num_hidden, out_features=num_hidden)\n",
        "    self.linear4 = nn.Linear(in_features=num_hidden, out_features=num_out)\n",
        "\n",
        "    self.hidden_activation = nn.ReLU()\n",
        "    self.out_activation = nn.Softmax(dim=1)\n",
        "\n",
        "\n",
        "  def forward(self, x):\n",
        "\n",
        "    z1 = self.linear1(x)\n",
        "    a1 = self.hidden_activation(z1)\n",
        "    z2 = self.linear2(a1)\n",
        "    a2 = self.hidden_activation(z2)\n",
        "    z3 = self.linear3(a2)\n",
        "    a3 = self.hidden_activation(z3)\n",
        "    z4 = self.linear4(a3)\n",
        "    y_hat = self.out_activation(z4)\n",
        "\n",
        "    return y_hat"
      ],
      "metadata": {
        "id": "w5pqaixegdEr"
      },
      "execution_count": 4,
      "outputs": []
    },
    {
      "cell_type": "markdown",
      "source": [
        "##Task 2: Train the neural network on train dataset"
      ],
      "metadata": {
        "id": "b-1GMIdgJXej"
      }
    },
    {
      "cell_type": "code",
      "source": [
        "#Train the neural network on train dataset\n",
        "num_epochs = 12\n",
        "lr = 1e-4\n",
        "\n",
        "device = 'cuda' if torch.cuda.is_available() else 'cpu'\n",
        "train_losses = []\n",
        "val_losses = []\n",
        "\n",
        "model = NN4Layer(num_inp=3072, num_hidden=50, num_out=10).to(device)\n",
        "\n",
        "optimizer = Adam(model.parameters(), lr=lr)\n",
        "criterion = nn.CrossEntropyLoss()\n",
        "\n",
        "print(f'Using device {device}')"
      ],
      "metadata": {
        "id": "YCIc6FnEiAuT",
        "outputId": "06bf75d0-97aa-49b8-ab11-eff4c9777f35",
        "colab": {
          "base_uri": "https://localhost:8080/"
        }
      },
      "execution_count": 5,
      "outputs": [
        {
          "output_type": "stream",
          "name": "stdout",
          "text": [
            "Using device cpu\n"
          ]
        }
      ]
    },
    {
      "cell_type": "code",
      "source": [
        "for epoch_no in tqdm(range(num_epochs)):\n",
        "\n",
        "  model.train()\n",
        "\n",
        "  epoch_weighted_loss = 0\n",
        "\n",
        "  for batch_X, batch_y in train_loader:\n",
        "\n",
        "    batch_X = batch_X.view(-1, 3*32*32).to(device)\n",
        "    batch_y = batch_y.to(device)\n",
        "\n",
        "    batch_y_probs = model(batch_X)\n",
        "\n",
        "    loss = criterion(batch_y_probs, batch_y)\n",
        "\n",
        "    optimizer.zero_grad()\n",
        "    loss.backward()\n",
        "    optimizer.step()\n",
        "\n",
        "    epoch_weighted_loss += (len(batch_y)*loss.item())\n",
        "\n",
        "  epoch_loss = epoch_weighted_loss/len(train_loader.dataset)\n",
        "  train_losses.append(epoch_loss)\n",
        "\n",
        "\n",
        "  model.eval()\n",
        "  correctly_labelled = 0\n",
        "\n",
        "  with torch.no_grad():\n",
        "\n",
        "    val_epoch_weighted_loss = 0\n",
        "\n",
        "    for val_batch_X, val_batch_y in test_loader:\n",
        "\n",
        "      val_batch_X = val_batch_X.view(-1, 3*32*32).to(device)\n",
        "      val_batch_y = val_batch_y.to(device)\n",
        "\n",
        "      val_batch_y_probs = model(val_batch_X)\n",
        "      loss = criterion(val_batch_y_probs, val_batch_y)\n",
        "      val_epoch_weighted_loss += (len(val_batch_y)*loss.item())\n",
        "\n",
        "      val_batch_y_pred = val_batch_y_probs.argmax(dim=1)\n",
        "\n",
        "      correctly_labelled += (val_batch_y_pred == val_batch_y).sum().item()\n",
        "  val_epoch_loss = val_epoch_weighted_loss/len(test_loader.dataset)\n",
        "  val_losses.append(val_epoch_loss)\n",
        "\n",
        "  print(f'Epoch: {epoch_no}, train_loss={epoch_loss}, val_loss={val_epoch_loss}. labelled {correctly_labelled}/{len(test_loader.dataset)} correctly ({correctly_labelled/len(test_loader.dataset)*100}% accuracy)')\n",
        "\n",
        "print(f'Training complete on device {device}. Change device variable and run again to see the difference.')"
      ],
      "metadata": {
        "id": "ScfF5EapixqD",
        "outputId": "27cc93df-ca01-44d4-805e-21f52f50e01e",
        "colab": {
          "base_uri": "https://localhost:8080/"
        }
      },
      "execution_count": 6,
      "outputs": [
        {
          "output_type": "stream",
          "name": "stderr",
          "text": [
            "  8%|▊         | 1/12 [00:19<03:32, 19.35s/it]"
          ]
        },
        {
          "output_type": "stream",
          "name": "stdout",
          "text": [
            "Epoch: 0, train_loss=2.229108659210205, val_loss=2.1839636112213134. labelled 2729/10000 correctly (27.29% accuracy)\n"
          ]
        },
        {
          "output_type": "stream",
          "name": "stderr",
          "text": [
            "\r 17%|█▋        | 2/12 [00:37<03:05, 18.53s/it]"
          ]
        },
        {
          "output_type": "stream",
          "name": "stdout",
          "text": [
            "Epoch: 1, train_loss=2.1729884482574464, val_loss=2.1602737655639648. labelled 2897/10000 correctly (28.970000000000002% accuracy)\n"
          ]
        },
        {
          "output_type": "stream",
          "name": "stderr",
          "text": [
            "\r 25%|██▌       | 3/12 [00:55<02:44, 18.25s/it]"
          ]
        },
        {
          "output_type": "stream",
          "name": "stdout",
          "text": [
            "Epoch: 2, train_loss=2.15308361869812, val_loss=2.141069316101074. labelled 3116/10000 correctly (31.16% accuracy)\n"
          ]
        },
        {
          "output_type": "stream",
          "name": "stderr",
          "text": [
            "\r 33%|███▎      | 4/12 [01:12<02:23, 17.88s/it]"
          ]
        },
        {
          "output_type": "stream",
          "name": "stdout",
          "text": [
            "Epoch: 3, train_loss=2.1339123465728758, val_loss=2.1241710594177245. labelled 3306/10000 correctly (33.06% accuracy)\n"
          ]
        },
        {
          "output_type": "stream",
          "name": "stderr",
          "text": [
            "\r 42%|████▏     | 5/12 [01:30<02:06, 18.05s/it]"
          ]
        },
        {
          "output_type": "stream",
          "name": "stdout",
          "text": [
            "Epoch: 4, train_loss=2.1210249781799315, val_loss=2.1135744915008545. labelled 3425/10000 correctly (34.25% accuracy)\n"
          ]
        },
        {
          "output_type": "stream",
          "name": "stderr",
          "text": [
            "\r 50%|█████     | 6/12 [01:48<01:48, 18.04s/it]"
          ]
        },
        {
          "output_type": "stream",
          "name": "stdout",
          "text": [
            "Epoch: 5, train_loss=2.1127541902160645, val_loss=2.1061071590423586. labelled 3508/10000 correctly (35.08% accuracy)\n"
          ]
        },
        {
          "output_type": "stream",
          "name": "stderr",
          "text": [
            "\r 58%|█████▊    | 7/12 [02:07<01:31, 18.37s/it]"
          ]
        },
        {
          "output_type": "stream",
          "name": "stdout",
          "text": [
            "Epoch: 6, train_loss=2.1062412618255615, val_loss=2.101298458480835. labelled 3558/10000 correctly (35.58% accuracy)\n"
          ]
        },
        {
          "output_type": "stream",
          "name": "stderr",
          "text": [
            "\r 67%|██████▋   | 8/12 [02:25<01:12, 18.01s/it]"
          ]
        },
        {
          "output_type": "stream",
          "name": "stdout",
          "text": [
            "Epoch: 7, train_loss=2.1007739178466798, val_loss=2.09839727973938. labelled 3567/10000 correctly (35.67% accuracy)\n"
          ]
        },
        {
          "output_type": "stream",
          "name": "stderr",
          "text": [
            "\r 75%|███████▌  | 9/12 [02:42<00:53, 17.92s/it]"
          ]
        },
        {
          "output_type": "stream",
          "name": "stdout",
          "text": [
            "Epoch: 8, train_loss=2.0960104233551027, val_loss=2.096106801986694. labelled 3591/10000 correctly (35.91% accuracy)\n"
          ]
        },
        {
          "output_type": "stream",
          "name": "stderr",
          "text": [
            "\r 83%|████████▎ | 10/12 [03:01<00:35, 17.99s/it]"
          ]
        },
        {
          "output_type": "stream",
          "name": "stdout",
          "text": [
            "Epoch: 9, train_loss=2.091356516494751, val_loss=2.092626606750488. labelled 3612/10000 correctly (36.120000000000005% accuracy)\n"
          ]
        },
        {
          "output_type": "stream",
          "name": "stderr",
          "text": [
            "\r 92%|█████████▏| 11/12 [03:18<00:17, 17.84s/it]"
          ]
        },
        {
          "output_type": "stream",
          "name": "stdout",
          "text": [
            "Epoch: 10, train_loss=2.0862902309417724, val_loss=2.088089818954468. labelled 3645/10000 correctly (36.449999999999996% accuracy)\n"
          ]
        },
        {
          "output_type": "stream",
          "name": "stderr",
          "text": [
            "100%|██████████| 12/12 [03:37<00:00, 18.10s/it]"
          ]
        },
        {
          "output_type": "stream",
          "name": "stdout",
          "text": [
            "Epoch: 11, train_loss=2.0819224953460695, val_loss=2.084244151687622. labelled 3698/10000 correctly (36.980000000000004% accuracy)\n",
            "Training complete on device cpu. Change device variable and run again to see the difference.\n"
          ]
        },
        {
          "output_type": "stream",
          "name": "stderr",
          "text": [
            "\n"
          ]
        }
      ]
    },
    {
      "cell_type": "markdown",
      "source": [
        "##Task 3: Show the training loss"
      ],
      "metadata": {
        "id": "o8YIB48CJdG_"
      }
    },
    {
      "cell_type": "code",
      "source": [
        "plt.plot(train_losses, label='train loss')\n",
        "plt.plot(val_losses, label='val loss')\n",
        "plt.xlabel('Epoch')\n",
        "plt.ylabel('Loss (Cross Entropy)')\n",
        "plt.legend()\n",
        "plt.show()"
      ],
      "metadata": {
        "id": "-c2zJuUKkyn9",
        "outputId": "d63c4404-658c-417b-f0b7-c25b34557678",
        "colab": {
          "base_uri": "https://localhost:8080/",
          "height": 449
        }
      },
      "execution_count": 7,
      "outputs": [
        {
          "output_type": "display_data",
          "data": {
            "text/plain": [
              "<Figure size 640x480 with 1 Axes>"
            ],
            "image/png": "[encoded data removed]"
          },
          "metadata": {}
        }
      ]
    },
    {
      "cell_type": "markdown",
      "source": [
        "##Task 4: Calculate the accuracy on test set"
      ],
      "metadata": {
        "id": "GOvQ8wiQJjz7"
      }
    },
    {
      "cell_type": "code",
      "source": [
        "model.eval()\n",
        "total_correct = 0\n",
        "total_samples = 0\n",
        "\n",
        "with torch.no_grad():\n",
        "    for images, labels in test_loader:\n",
        "        images = images.view(-1, 3*32*32).to(device)\n",
        "        labels = labels.to(device)\n",
        "        outputs = model(images)\n",
        "        _, predicted = torch.max(outputs, 1)\n",
        "        total_samples += labels.size(0)\n",
        "        total_correct += (predicted == labels).sum().item()\n",
        "\n",
        "\n",
        "accuracy = total_correct / total_samples\n",
        "print(f'Test Accuracy: {accuracy * 100:.2f}%')\n"
      ],
      "metadata": {
        "id": "WK66_fQdlfBQ",
        "outputId": "dfa22215-772d-47c2-c45f-d890f928d66d",
        "colab": {
          "base_uri": "https://localhost:8080/"
        }
      },
      "execution_count": 8,
      "outputs": [
        {
          "output_type": "stream",
          "name": "stdout",
          "text": [
            "Test Accuracy: 36.98%\n"
          ]
        }
      ]
    },
    {
      "cell_type": "markdown",
      "source": [
        "##Task 5: Show a few incorrectly classified samples"
      ],
      "metadata": {
        "id": "wNgrNaw3JpgE"
      }
    },
    {
      "cell_type": "code",
      "source": [
        "incorrect_samples = []\n",
        "incorrect_mask = (val_batch_y_pred != val_batch_y)\n",
        "for idx in range(len(val_batch_y)):\n",
        "    if incorrect_mask[idx]:\n",
        "        incorrect_samples.append((val_batch_X[idx].cpu(), val_batch_y[idx].item(), val_batch_y_pred[idx].item()))\n",
        "print(\"Incorrectly Classified Samples:\")\n",
        "for i in range(min(5, len(incorrect_samples))):\n",
        "    sample_X, true_label, predicted_label = incorrect_samples[i]\n",
        "    print(f'Sample {i + 1}: True Label: {true_label}, Predicted Label: {predicted_label}')\n"
      ],
      "metadata": {
        "id": "fy0cPNhNngjg",
        "outputId": "f6ab94c1-ba27-4842-b18e-a1ea38493744",
        "colab": {
          "base_uri": "https://localhost:8080/"
        }
      },
      "execution_count": 9,
      "outputs": [
        {
          "output_type": "stream",
          "name": "stdout",
          "text": [
            "Incorrectly Classified Samples:\n",
            "Sample 1: True Label: 7, Predicted Label: 4\n",
            "Sample 2: True Label: 5, Predicted Label: 7\n",
            "Sample 3: True Label: 8, Predicted Label: 1\n",
            "Sample 4: True Label: 0, Predicted Label: 8\n",
            "Sample 5: True Label: 8, Predicted Label: 1\n"
          ]
        }
      ]
    },
    {
      "cell_type": "markdown",
      "source": [
        "##Task 6: Calculate class-wise accuracy"
      ],
      "metadata": {
        "id": "cTGVmq-yJ0eC"
      }
    },
    {
      "cell_type": "code",
      "source": [
        "def class_wise_accuracy(model, data_loader):\n",
        "    class_correct = [0 for _ in range(10)]\n",
        "    class_total = [0 for _ in range(10)]\n",
        "    model.eval()\n",
        "    with torch.no_grad():\n",
        "        for images, labels in data_loader:\n",
        "            images = images.view(-1, 3*32*32).to(device)\n",
        "            labels = labels.to(device)\n",
        "            outputs = model(images)\n",
        "            _, predicted = torch.max(outputs, 1)\n",
        "            correct = (predicted == labels).squeeze()\n",
        "            for i in range(len(labels)):\n",
        "                label = labels[i]\n",
        "                class_correct[label] += correct[i].item()\n",
        "                class_total[label] += 1\n",
        "    class_accuracy = [100 * class_correct[i] / class_total[i] if class_total[i] > 0 else 0 for i in range(10)]\n",
        "    return class_accuracy\n",
        "\n",
        "class_accuracy = class_wise_accuracy(model, test_loader)\n",
        "for i in range(10):\n",
        "    print(f'Class {i} accuracy: {class_accuracy[i]:.2f}%')"
      ],
      "metadata": {
        "id": "GGQYu-YCotSb",
        "outputId": "1adcb467-4e26-4cfa-b634-3c9b97d00fcb",
        "colab": {
          "base_uri": "https://localhost:8080/"
        }
      },
      "execution_count": 10,
      "outputs": [
        {
          "output_type": "stream",
          "name": "stdout",
          "text": [
            "Class 0 accuracy: 45.60%\n",
            "Class 1 accuracy: 48.30%\n",
            "Class 2 accuracy: 8.70%\n",
            "Class 3 accuracy: 10.20%\n",
            "Class 4 accuracy: 26.40%\n",
            "Class 5 accuracy: 39.80%\n",
            "Class 6 accuracy: 58.00%\n",
            "Class 7 accuracy: 31.50%\n",
            "Class 8 accuracy: 61.10%\n",
            "Class 9 accuracy: 40.20%\n"
          ]
        }
      ]
    }
  ]
}