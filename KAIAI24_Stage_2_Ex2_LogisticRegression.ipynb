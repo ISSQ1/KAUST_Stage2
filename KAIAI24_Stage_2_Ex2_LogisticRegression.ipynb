{
  "cells": [
    {
      "cell_type": "markdown",
      "metadata": {
        "id": "view-in-github",
        "colab_type": "text"
      },
      "source": [
        "<a href=\"https://colab.research.google.com/github/ISSQ1/KAUST_Stage2/blob/main/KAIAI24_Stage_2_Ex2_LogisticRegression.ipynb\" target=\"_parent\"><img src=\"https://colab.research.google.com/assets/colab-badge.svg\" alt=\"Open In Colab\"/></a>"
      ]
    },
    {
      "cell_type": "code",
      "execution_count": null,
      "metadata": {
        "id": "zcWdmzFF6Wy3"
      },
      "outputs": [],
      "source": [
        "from matplotlib import pyplot as plt\n",
        "import torch\n",
        "from torchvision import datasets, transforms\n",
        "import numpy as np\n",
        "from IPython.display import clear_output"
      ]
    },
    {
      "cell_type": "markdown",
      "source": [
        "#Tasks\n",
        "#1) Train a logistic regression model using numpy (PyTorch or any other framework is not allowed)\n",
        "#2) Implement the softmax layer\n",
        "#3) Implement the cross entropy loss\n",
        "#4) plot the training loss\n",
        "#5) Show the test Accuracy\n",
        "#6) Show a few incorrectly labelled samples"
      ],
      "metadata": {
        "id": "GDH_sHZo9Xpe"
      }
    },
    {
      "cell_type": "code",
      "source": [
        "!wget https://pjreddie.com/media/files/mnist_train.csv.gz -P ../input"
      ],
      "metadata": {
        "id": "wdLlcFUqV_dt",
        "outputId": "0bab9c84-244d-4118-90aa-f84f0bb2e021",
        "colab": {
          "base_uri": "https://localhost:8080/"
        }
      },
      "execution_count": null,
      "outputs": [
        {
          "output_type": "stream",
          "name": "stdout",
          "text": [
            "--2024-03-28 05:36:55--  https://pjreddie.com/media/files/mnist_train.csv.gz\n",
            "Resolving pjreddie.com (pjreddie.com)... 162.0.215.52\n",
            "Connecting to pjreddie.com (pjreddie.com)|162.0.215.52|:443... connected.\n",
            "HTTP request sent, awaiting response... 404 Not Found\n",
            "2024-03-28 05:36:55 ERROR 404: Not Found.\n",
            "\n"
          ]
        }
      ]
    },
    {
      "cell_type": "code",
      "source": [
        "# Define a transform to normalize the data\n",
        "transform = transforms.Compose([transforms.ToTensor(),\n",
        "                                transforms.Normalize((0.5,), (0.5,))])\n",
        "# Download training data\n",
        "trainset = datasets.FashionMNIST('~/.pytorch/F_MNIST_data/', download=True, train=True, transform=transform)\n",
        "\n",
        "\n",
        "# Download test data\n",
        "testset = datasets.FashionMNIST('~/.pytorch/F_MNIST_data/', download=True, train=False, transform=transform)\n",
        "\n",
        "clear_output()"
      ],
      "metadata": {
        "id": "RiclSY-bdnoF"
      },
      "execution_count": null,
      "outputs": []
    },
    {
      "cell_type": "code",
      "source": [
        "print(trainset.data.shape)\n",
        "print(trainset.targets.shape)\n",
        "print(\"Number of classes: \", len(trainset.classes))"
      ],
      "metadata": {
        "id": "S4JvxS21dpu2",
        "outputId": "4e9d95c4-35a9-43e6-d5cb-d9c86973b965",
        "colab": {
          "base_uri": "https://localhost:8080/"
        }
      },
      "execution_count": null,
      "outputs": [
        {
          "output_type": "stream",
          "name": "stdout",
          "text": [
            "torch.Size([60000, 28, 28])\n",
            "torch.Size([60000])\n",
            "Number of classes:  10\n"
          ]
        }
      ]
    },
    {
      "cell_type": "code",
      "source": [
        "trainloader = torch.utils.data.DataLoader(trainset, batch_size=64, shuffle=True)\n",
        "\n",
        "testloader = torch.utils.data.DataLoader(testset, batch_size=64, shuffle=True)"
      ],
      "metadata": {
        "id": "Be626ACNdwCj"
      },
      "execution_count": null,
      "outputs": []
    },
    {
      "cell_type": "code",
      "source": [
        "images = []\n",
        "labels = []\n",
        "\n",
        "plt.figure(figsize=(20,20))\n",
        "\n",
        "for i in range(10):\n",
        "    images.append(trainset.data[i])\n",
        "    labels.append(trainset.targets[i])\n",
        "    plt.subplot(1,10,i+1)\n",
        "    plt.imshow(images[i], cmap='gray')\n",
        "    plt.title(trainset.classes[labels[i].item()])\n",
        "    plt.axis('off')\n",
        "plt.show()"
      ],
      "metadata": {
        "id": "EzBMEYY_dzch",
        "outputId": "47122bc2-b847-4490-f8c2-215b17aaecc6",
        "colab": {
          "base_uri": "https://localhost:8080/",
          "height": 136
        }
      },
      "execution_count": null,
      "outputs": [
        {
          "output_type": "display_data",
          "data": {
            "text/plain": [
              "<Figure size 2000x2000 with 10 Axes>"
            ],
            "image/png": "[encoded data removed]"
          },
          "metadata": {}
        }
      ]
    },
    {
      "cell_type": "code",
      "source": [
        "class MultiClassLogisticRegression:\n",
        "\n",
        "    def fit(self, X, y, epochs=10, learning_rate= 0.001): # Train the logistic regression model.\n",
        "        self.classes = np.unique(y)\n",
        "        self.class_labels = {c:i for i,c in enumerate(self.classes)}\n",
        "        y=self.one_hot(y)\n",
        "\n",
        "        self.loss = []\n",
        "\n",
        "\n",
        "        col = np.ones((X.shape[0], 1))\n",
        "        A = np.concatenate((col, X), axis=1)\n",
        "\n",
        "\n",
        "        self.weights = np.random.randn(len(self.classes), A.shape[1])\n",
        "\n",
        "        for i in range(epochs):\n",
        "\n",
        "            if self.score_(A, y) > 0.79:\n",
        "              break\n",
        "            self.loss.append(self.cross_entropy(y, self.predict_(A)))\n",
        "\n",
        "\n",
        "            pred_y = self.predict_(A)\n",
        "\n",
        "            gradient = (pred_y - y).T.dot(A)\n",
        "\n",
        "\n",
        "            self.weights -= gradient.dot(learning_rate)\n",
        "            print(' Training Accuray at {} iterations is {}'.format(i+1, self.score_(A, y)))\n",
        "        return self\n",
        "\n",
        "\n",
        "    def predict(self, X): # Predict the class labels for input data.\n",
        "        col = np.ones((X.shape[0], 1))\n",
        "        X = np.concatenate((col, X), axis =1)\n",
        "        return self.predict_(X)\n",
        "\n",
        "\n",
        "    def accuracy(self, X, y): # Calculate the accuracy of the model on given data.\n",
        "        predicted_classes = self.predict_classes(X)\n",
        "        correct_predictions = np.sum(predicted_classes == y.numpy())\n",
        "        total_samples = len(y)\n",
        "        accuracy = correct_predictions / total_samples\n",
        "        return accuracy\n",
        "\n",
        "\n",
        "    def predict_(self, X): # Compute the raw scores for each class.\n",
        "        z = np.dot(X, self.weights.T).reshape(-1,len(self.classes))\n",
        "        return self.softmax(z)\n",
        "\n",
        "\n",
        "    def softmax(self, z): # Compute the softmax probabilities from raw scores.\n",
        "        exp_z = np.exp(z - np.max(z, axis=1, keepdims=True))\n",
        "        return exp_z / np.sum(exp_z, axis=1, keepdims=True)\n",
        "\n",
        "    def cross_entropy(self, y, probs): # Compute the cross-entropy loss.\n",
        "        epsilon = 1e-15\n",
        "        clipped_probs = np.clip(probs, epsilon, 1 - epsilon)\n",
        "        return (-1 / len(probs)) * (y * np.log(clipped_probs)).sum()\n",
        "\n",
        "\n",
        "    def predict_classes(self, X): # Predict the class labels for input data.\n",
        "        return np.argmax(self.predict(X), axis=1)\n",
        "\n",
        "    def one_hot(self, y): # Convert class labels into one-hot encoded vectors.\n",
        "        return np.eye(len(self.classes))[y.reshape(-1)]\n",
        "\n",
        "    def score_(self, X, y): # Compute the accuracy score of the model.\n",
        "        probs = self.predict_(X)\n",
        "        return np.mean(np.argmax(probs, axis=1) == np.argmax(y, axis=1))"
      ],
      "metadata": {
        "id": "diJNJZV6d8jA"
      },
      "execution_count": null,
      "outputs": []
    },
    {
      "cell_type": "code",
      "source": [
        "# Reshape the training and test data into 2D arrays\n",
        "X_train = trainset.data.numpy().reshape(trainset.data.shape[0], -1)\n",
        "X_test = testset.data.numpy().reshape(testset.data.shape[0], -1)"
      ],
      "metadata": {
        "id": "-9xy9exxeASn"
      },
      "execution_count": null,
      "outputs": []
    },
    {
      "cell_type": "code",
      "source": [
        "# epochs = 100\n",
        "# # Initialize the model\n",
        "# model = MultiClassLogisticRegression()\n",
        "\n",
        "# # Train the model and track the training loss\n",
        "# training_loss_history = []\n",
        "# for epoch in range(epochs):\n",
        "#     # Perform one epoch of training\n",
        "#     model.fit(X_train, trainset.targets, epochs=1, learning_rate=1e-5)\n",
        "\n",
        "#     # Append the training loss for the current epoch\n",
        "#     training_loss_history.append(model.loss[-1])  # Get the loss from the last epoch\n",
        "\n",
        "# # Plot the training loss\n",
        "# plt.figure(figsize=(10, 5))\n",
        "# plt.plot(training_loss_history, label='Training Loss')\n",
        "# plt.xlabel('Epoch')\n",
        "# plt.ylabel('Loss')\n",
        "# plt.title('Training Loss over Epochs')\n",
        "# plt.legend()\n",
        "# plt.grid(True)\n",
        "# plt.show()\n"
      ],
      "metadata": {
        "id": "vfHXLLGCRXoa"
      },
      "execution_count": null,
      "outputs": []
    },
    {
      "cell_type": "code",
      "source": [
        "# Initialize the model\n",
        "model = MultiClassLogisticRegression()\n",
        "model.fit(X_train, trainset.targets, epochs=100, learning_rate= 1e-5)"
      ],
      "metadata": {
        "id": "0bi73IBMeD9Q",
        "outputId": "de1f90ea-5543-48e4-c25e-b0511c9c71f1",
        "colab": {
          "base_uri": "https://localhost:8080/"
        }
      },
      "execution_count": null,
      "outputs": [
        {
          "output_type": "stream",
          "name": "stdout",
          "text": [
            " Training Accuray at 1 iterations is 0.20685\n",
            " Training Accuray at 2 iterations is 0.2764666666666667\n",
            " Training Accuray at 3 iterations is 0.3086333333333333\n",
            " Training Accuray at 4 iterations is 0.22643333333333332\n",
            " Training Accuray at 5 iterations is 0.3010833333333333\n",
            " Training Accuray at 6 iterations is 0.23555\n",
            " Training Accuray at 7 iterations is 0.33621666666666666\n",
            " Training Accuray at 8 iterations is 0.31998333333333334\n",
            " Training Accuray at 9 iterations is 0.28276666666666667\n",
            " Training Accuray at 10 iterations is 0.3656333333333333\n",
            " Training Accuray at 11 iterations is 0.45153333333333334\n",
            " Training Accuray at 12 iterations is 0.4978\n",
            " Training Accuray at 13 iterations is 0.47963333333333336\n",
            " Training Accuray at 14 iterations is 0.5143333333333333\n",
            " Training Accuray at 15 iterations is 0.4495\n",
            " Training Accuray at 16 iterations is 0.4828\n",
            " Training Accuray at 17 iterations is 0.48836666666666667\n",
            " Training Accuray at 18 iterations is 0.5908666666666667\n",
            " Training Accuray at 19 iterations is 0.6734666666666667\n",
            " Training Accuray at 20 iterations is 0.6525166666666666\n",
            " Training Accuray at 21 iterations is 0.6714666666666667\n",
            " Training Accuray at 22 iterations is 0.6576833333333333\n",
            " Training Accuray at 23 iterations is 0.6299\n",
            " Training Accuray at 24 iterations is 0.5833666666666667\n",
            " Training Accuray at 25 iterations is 0.6641666666666667\n",
            " Training Accuray at 26 iterations is 0.64575\n",
            " Training Accuray at 27 iterations is 0.66205\n",
            " Training Accuray at 28 iterations is 0.6633166666666667\n",
            " Training Accuray at 29 iterations is 0.6694666666666667\n",
            " Training Accuray at 30 iterations is 0.6156833333333334\n",
            " Training Accuray at 31 iterations is 0.69435\n",
            " Training Accuray at 32 iterations is 0.6638833333333334\n",
            " Training Accuray at 33 iterations is 0.6447833333333334\n",
            " Training Accuray at 34 iterations is 0.6063666666666667\n",
            " Training Accuray at 35 iterations is 0.6582166666666667\n",
            " Training Accuray at 36 iterations is 0.6466333333333333\n",
            " Training Accuray at 37 iterations is 0.6757833333333333\n",
            " Training Accuray at 38 iterations is 0.6808666666666666\n",
            " Training Accuray at 39 iterations is 0.7259833333333333\n",
            " Training Accuray at 40 iterations is 0.68685\n",
            " Training Accuray at 41 iterations is 0.6568666666666667\n",
            " Training Accuray at 42 iterations is 0.7063833333333334\n",
            " Training Accuray at 43 iterations is 0.65915\n",
            " Training Accuray at 44 iterations is 0.7153333333333334\n",
            " Training Accuray at 45 iterations is 0.7079833333333333\n",
            " Training Accuray at 46 iterations is 0.7278333333333333\n",
            " Training Accuray at 47 iterations is 0.7049\n",
            " Training Accuray at 48 iterations is 0.6694166666666667\n",
            " Training Accuray at 49 iterations is 0.7214333333333334\n",
            " Training Accuray at 50 iterations is 0.7240333333333333\n",
            " Training Accuray at 51 iterations is 0.6781666666666667\n",
            " Training Accuray at 52 iterations is 0.7264666666666667\n",
            " Training Accuray at 53 iterations is 0.7495166666666667\n",
            " Training Accuray at 54 iterations is 0.7064666666666667\n",
            " Training Accuray at 55 iterations is 0.6616\n",
            " Training Accuray at 56 iterations is 0.6972333333333334\n",
            " Training Accuray at 57 iterations is 0.7307666666666667\n",
            " Training Accuray at 58 iterations is 0.6908\n",
            " Training Accuray at 59 iterations is 0.7555\n",
            " Training Accuray at 60 iterations is 0.7024666666666667\n",
            " Training Accuray at 61 iterations is 0.6527333333333334\n",
            " Training Accuray at 62 iterations is 0.70615\n",
            " Training Accuray at 63 iterations is 0.6953166666666667\n",
            " Training Accuray at 64 iterations is 0.6969833333333333\n",
            " Training Accuray at 65 iterations is 0.6748833333333333\n",
            " Training Accuray at 66 iterations is 0.6419333333333334\n",
            " Training Accuray at 67 iterations is 0.6977833333333333\n",
            " Training Accuray at 68 iterations is 0.6934\n",
            " Training Accuray at 69 iterations is 0.7261333333333333\n",
            " Training Accuray at 70 iterations is 0.6635166666666666\n",
            " Training Accuray at 71 iterations is 0.7280833333333333\n",
            " Training Accuray at 72 iterations is 0.7102\n",
            " Training Accuray at 73 iterations is 0.7169666666666666\n",
            " Training Accuray at 74 iterations is 0.6491833333333333\n",
            " Training Accuray at 75 iterations is 0.71145\n",
            " Training Accuray at 76 iterations is 0.6738666666666666\n",
            " Training Accuray at 77 iterations is 0.705\n",
            " Training Accuray at 78 iterations is 0.6933833333333334\n",
            " Training Accuray at 79 iterations is 0.7193333333333334\n",
            " Training Accuray at 80 iterations is 0.6509666666666667\n",
            " Training Accuray at 81 iterations is 0.64655\n",
            " Training Accuray at 82 iterations is 0.6595666666666666\n",
            " Training Accuray at 83 iterations is 0.6640333333333334\n",
            " Training Accuray at 84 iterations is 0.5995\n",
            " Training Accuray at 85 iterations is 0.6882666666666667\n",
            " Training Accuray at 86 iterations is 0.65445\n",
            " Training Accuray at 87 iterations is 0.7107166666666667\n",
            " Training Accuray at 88 iterations is 0.7160333333333333\n",
            " Training Accuray at 89 iterations is 0.6951833333333334\n",
            " Training Accuray at 90 iterations is 0.7303\n",
            " Training Accuray at 91 iterations is 0.76345\n",
            " Training Accuray at 92 iterations is 0.7402166666666666\n",
            " Training Accuray at 93 iterations is 0.7212\n",
            " Training Accuray at 94 iterations is 0.66435\n",
            " Training Accuray at 95 iterations is 0.7420833333333333\n",
            " Training Accuray at 96 iterations is 0.7258166666666667\n",
            " Training Accuray at 97 iterations is 0.7388833333333333\n",
            " Training Accuray at 98 iterations is 0.7396166666666667\n",
            " Training Accuray at 99 iterations is 0.7811\n",
            " Training Accuray at 100 iterations is 0.7635833333333333\n"
          ]
        },
        {
          "output_type": "execute_result",
          "data": {
            "text/plain": [
              "<__main__.MultiClassLogisticRegression at 0x785d7bd1bd00>"
            ]
          },
          "metadata": {},
          "execution_count": 10
        }
      ]
    },
    {
      "cell_type": "code",
      "source": [
        "accuracy_train = model.accuracy(torch.tensor(X_train), trainset.targets)\n",
        "print(\"Training Accuracy: {}\".format(accuracy_train))"
      ],
      "metadata": {
        "id": "k_HnF5rWeOH9",
        "outputId": "2bbcb0d3-53b1-42d2-85f1-9743e69e1847",
        "colab": {
          "base_uri": "https://localhost:8080/"
        }
      },
      "execution_count": null,
      "outputs": [
        {
          "output_type": "stream",
          "name": "stdout",
          "text": [
            "Training Accuracy: 0.7635833333333333\n"
          ]
        }
      ]
    },
    {
      "cell_type": "code",
      "source": [
        "accuracy_test = model.accuracy(torch.tensor(X_test), testset.targets)\n",
        "print(f\"Test Accuracy: {accuracy_test}\")"
      ],
      "metadata": {
        "id": "98Xc5NG1eSgG",
        "outputId": "854796f5-4d7d-4843-be08-0ba303a2e86a",
        "colab": {
          "base_uri": "https://localhost:8080/"
        }
      },
      "execution_count": null,
      "outputs": [
        {
          "output_type": "stream",
          "name": "stdout",
          "text": [
            "Test Accuracy: 0.7548\n"
          ]
        }
      ]
    },
    {
      "cell_type": "code",
      "source": [
        "model.loss"
      ],
      "metadata": {
        "id": "76A-RGHUeWQO",
        "outputId": "c072cab2-9cf6-4730-9c0d-ee72ae1edaf3",
        "colab": {
          "base_uri": "https://localhost:8080/"
        }
      },
      "execution_count": null,
      "outputs": [
        {
          "output_type": "execute_result",
          "data": {
            "text/plain": [
              "[32.74856793549262,\n",
              " 27.393809459552678,\n",
              " 24.98903379248683,\n",
              " 23.87878506519408,\n",
              " 26.718058601780747,\n",
              " 24.139294929551962,\n",
              " 26.402909162661892,\n",
              " 22.926264124668464,\n",
              " 23.486256862900845,\n",
              " 24.772361722976456,\n",
              " 21.90959045045204,\n",
              " 18.942581216422663,\n",
              " 17.34500120432749,\n",
              " 17.971254503867836,\n",
              " 16.77387195370956,\n",
              " 19.011370868837382,\n",
              " 17.862898442136423,\n",
              " 17.67118930186419,\n",
              " 14.130602715817965,\n",
              " 11.27806183385061,\n",
              " 12.001091886290848,\n",
              " 11.347039919162066,\n",
              " 11.82279829707799,\n",
              " 12.782173331648327,\n",
              " 14.389692377569682,\n",
              " 11.597791369709794,\n",
              " 12.235324594688818,\n",
              " 11.671362310398461,\n",
              " 11.627869562068332,\n",
              " 11.416125710920559,\n",
              " 13.271940373217376,\n",
              " 10.555903645192387,\n",
              " 11.608069842143728,\n",
              " 12.26874902174616,\n",
              " 13.594947019369746,\n",
              " 11.80414193279303,\n",
              " 12.203812062018258,\n",
              " 11.197960043647651,\n",
              " 11.021522942450277,\n",
              " 9.463071063631272,\n",
              " 10.814757124007754,\n",
              " 11.851376181962614,\n",
              " 10.140810165063305,\n",
              " 11.770894992801235,\n",
              " 9.831960374832786,\n",
              " 10.084347119154247,\n",
              " 9.399179860753895,\n",
              " 10.190987781276947,\n",
              " 11.416164329618475,\n",
              " 9.620659022904093,\n",
              " 9.530668291550528,\n",
              " 11.115353661335138,\n",
              " 9.446735455677917,\n",
              " 8.650705791688729,\n",
              " 10.136872304594064,\n",
              " 11.687745717023418,\n",
              " 10.456296593949485,\n",
              " 9.297357897143478,\n",
              " 10.678831246657142,\n",
              " 8.444179583859084,\n",
              " 10.276311102955335,\n",
              " 11.993346416935744,\n",
              " 10.148872338532865,\n",
              " 10.522626656370786,\n",
              " 10.464835586453896,\n",
              " 11.228644247493598,\n",
              " 12.366462051075416,\n",
              " 10.43819387281525,\n",
              " 10.589226608300617,\n",
              " 9.45837428469913,\n",
              " 11.619751795239052,\n",
              " 9.390519208564589,\n",
              " 10.009009746878183,\n",
              " 9.77476622266271,\n",
              " 12.115208459448407,\n",
              " 9.965020797869455,\n",
              " 11.263785612204748,\n",
              " 10.187819414724062,\n",
              " 10.589523915660276,\n",
              " 9.69301537630307,\n",
              " 12.054107214329175,\n",
              " 12.207200059026459,\n",
              " 11.757175994435235,\n",
              " 11.60238342197256,\n",
              " 13.832249311079607,\n",
              " 10.765689710756764,\n",
              " 11.934472741835865,\n",
              " 9.991252205260604,\n",
              " 9.807220079033588,\n",
              " 10.527988780170183,\n",
              " 9.314746285120698,\n",
              " 8.170093158110443,\n",
              " 8.971858167418677,\n",
              " 9.629411011343878,\n",
              " 11.592682376841248,\n",
              " 8.907712767285277,\n",
              " 9.469202035738599,\n",
              " 9.018598887546387,\n",
              " 8.99181065635612,\n",
              " 7.560527466215312]"
            ]
          },
          "metadata": {},
          "execution_count": 13
        }
      ]
    },
    {
      "cell_type": "code",
      "source": [
        "plt.plot(model.loss)"
      ],
      "metadata": {
        "id": "oMUsFozzedQR",
        "outputId": "26107578-7d84-4300-f6a6-1408ed4e6429",
        "colab": {
          "base_uri": "https://localhost:8080/",
          "height": 447
        }
      },
      "execution_count": null,
      "outputs": [
        {
          "output_type": "execute_result",
          "data": {
            "text/plain": [
              "[<matplotlib.lines.Line2D at 0x785d7bd0e7d0>]"
            ]
          },
          "metadata": {},
          "execution_count": 14
        },
        {
          "output_type": "display_data",
          "data": {
            "text/plain": [
              "<Figure size 640x480 with 1 Axes>"
            ],
            "image/png": "[encoded data removed]"
          },
          "metadata": {}
        }
      ]
    },
    {
      "cell_type": "code",
      "source": [
        "# After training, predict labels for the training set\n",
        "predicted_labels = model.predict_classes(torch.tensor(X_train))\n",
        "\n",
        "# Find indices of incorrectly labeled samples\n",
        "incorrect_indices = np.nonzero(predicted_labels != trainset.targets)[0]\n",
        "\n",
        "# Visualize a few incorrectly labeled samples\n",
        "num_samples_to_visualize = min(5, len(incorrect_indices))  # Ensure not to select more samples than available\n",
        "selected_indices = np.random.choice(incorrect_indices, num_samples_to_visualize, replace=False)\n",
        "\n",
        "plt.figure(figsize=(15, 5))\n",
        "for i, index in enumerate(selected_indices):\n",
        "    plt.subplot(1, num_samples_to_visualize, i + 1)\n",
        "    plt.imshow(X_train[index].reshape(28, 28), cmap='gray')\n",
        "    plt.title(f'True Label: {trainset.targets[index]}, Predicted Label: {predicted_labels[index]}')\n",
        "    plt.axis('off')\n",
        "plt.show()\n"
      ],
      "metadata": {
        "colab": {
          "base_uri": "https://localhost:8080/",
          "height": 444
        },
        "id": "HHlbRJ0hXY_y",
        "outputId": "8a74f688-f706-4836-9a3f-4739050d44cb"
      },
      "execution_count": null,
      "outputs": [
        {
          "output_type": "display_data",
          "data": {
            "text/plain": [
              "<Figure size 1500x500 with 1 Axes>"
            ],
            "image/png": "[encoded data removed]"
          },
          "metadata": {}
        }
      ]
    },
    {
      "cell_type": "code",
      "source": [
        "images = []\n",
        "labels = []\n",
        "predictions = []\n",
        "\n",
        "plt.figure(figsize=(20, 20))\n",
        "\n",
        "for i in range(10):\n",
        "    image = testset.data[i].numpy().reshape(-1)  # Convert PyTorch tensor to NumPy array and flatten\n",
        "    label = testset.targets[i].item()\n",
        "    predicted_label = model.predict_classes(image.reshape(1, -1))[0]\n",
        "\n",
        "    images.append(image)\n",
        "    labels.append(label)\n",
        "    predictions.append(predicted_label)\n",
        "\n",
        "    plt.subplot(1, 10, i + 1)\n",
        "    plt.imshow(images[i].reshape(28, 28), cmap='gray')\n",
        "    plt.title(f\"True: {trainset.classes[labels[i]]}\\nPred: {trainset.classes[predictions[i]]}\")\n",
        "    plt.axis('off')\n",
        "\n",
        "plt.show()"
      ],
      "metadata": {
        "colab": {
          "base_uri": "https://localhost:8080/",
          "height": 150
        },
        "id": "gozjzW7MkKpJ",
        "outputId": "d4fb1285-20ba-45bd-e04b-e9488371f733"
      },
      "execution_count": null,
      "outputs": [
        {
          "output_type": "display_data",
          "data": {
            "text/plain": [
              "<Figure size 2000x2000 with 10 Axes>"
            ],
            "image/png": "[encoded data removed]"
          },
          "metadata": {}
        }
      ]
    }
  ],
  "metadata": {
    "accelerator": "GPU",
    "colab": {
      "provenance": [],
      "gpuType": "T4",
      "include_colab_link": true
    },
    "kernelspec": {
      "display_name": "Python 3",
      "name": "python3"
    },
    "language_info": {
      "name": "python"
    }
  },
  "nbformat": 4,
  "nbformat_minor": 0
}